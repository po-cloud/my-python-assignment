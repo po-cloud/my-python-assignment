{
 "cells": [
  {
   "cell_type": "code",
   "execution_count": 4,
   "id": "68387e54-b07b-4f3d-90b4-046d639937f3",
   "metadata": {},
   "outputs": [
    {
     "name": "stdout",
     "output_type": "stream",
     "text": [
      "Hello My Name Is: \n"
     ]
    }
   ],
   "source": [
    "print(\"Hello My Name Is: \")"
   ]
  },
  {
   "cell_type": "code",
   "execution_count": 5,
   "id": "101c0ab5-1178-479b-91ab-4a7e9e930d5a",
   "metadata": {},
   "outputs": [
    {
     "name": "stdout",
     "output_type": "stream",
     "text": [
      "saimon rai\n"
     ]
    }
   ],
   "source": [
    "print(\"saimon rai\")"
   ]
  },
  {
   "cell_type": "code",
   "execution_count": 6,
   "id": "38b6cf6b-9bc7-4cae-941e-a698804e2a1c",
   "metadata": {},
   "outputs": [
    {
     "name": "stdout",
     "output_type": "stream",
     "text": [
      "6\n"
     ]
    }
   ],
   "source": [
    "print(3 + 3)"
   ]
  },
  {
   "cell_type": "code",
   "execution_count": 18,
   "id": "b1532925-fdfb-485b-8ded-d380cc8bff23",
   "metadata": {},
   "outputs": [
    {
     "name": "stdin",
     "output_type": "stream",
     "text": [
      "Enter first number:  2\n",
      "Enter second number:  3\n",
      "ENter operation (+, -, *, /):  *\n"
     ]
    },
    {
     "name": "stdout",
     "output_type": "stream",
     "text": [
      "Result: 6.0\n"
     ]
    }
   ],
   "source": [
    "#print(\"Set A - Basic Pthon Programs\")\n",
    "#print(\"1.Write a python program that simulates a basic calculator, performing addition, subtraction, multiplication, and divison.\")\n",
    "\n",
    "\n",
    "#Basic calculator\n",
    "num1 = float(input(\"Enter first number: \"))\n",
    "num2 = float(input(\"Enter second number: \"))\n",
    "operation = input(\"ENter operation (+, -, *, /): \")\n",
    "\n",
    "if operation == '+':\n",
    "    print(\"Result:\", num1 + num2)\n",
    "elif operation == '-':\n",
    "    print(\"Result:\", num1 - num2)\n",
    "elif operation == '*':\n",
    "    print(\"Result:\", num1 * num2)\n",
    "elif operation == '/':\n",
    "    if num2 != 0:\n",
    "        print(\"Result:\", num1 / num2)\n",
    "    else:\n",
    "        print(\"Error:Division by Zaero!\")\n",
    "else:\n",
    "    print(\"Invalid operation\")"
   ]
  },
  {
   "cell_type": "code",
   "execution_count": 26,
   "id": "7f51874b-831a-4190-bb25-c45e5d1c2efb",
   "metadata": {},
   "outputs": [
    {
     "name": "stdin",
     "output_type": "stream",
     "text": [
      "Enter a decimal number:  1\n"
     ]
    },
    {
     "name": "stdout",
     "output_type": "stream",
     "text": [
      "Binary equivalent: 1\n"
     ]
    }
   ],
   "source": [
    "#print(\"2) Write a Python program that converts a given decimal number to its binary equivalent.\")\n",
    "#print(\"2.Decimal to Binary\")\n",
    "\n",
    "#Decimal to binary\n",
    "decimal = int(input(\"Enter a decimal number: \"))\n",
    "print(\"Binary equivalent:\", bin(decimal)[2:])"
   ]
  },
  {
   "cell_type": "code",
   "execution_count": 34,
   "id": "fc9162c0-6f89-4995-90b4-f011f4617a76",
   "metadata": {},
   "outputs": [
    {
     "name": "stdin",
     "output_type": "stream",
     "text": [
      "Enter your age:  66\n"
     ]
    },
    {
     "name": "stdout",
     "output_type": "stream",
     "text": [
      "You aare a senior.\n"
     ]
    }
   ],
   "source": [
    "#3) Write a Python program that asks for the user's age and then prints a message stating whether the user is a minor, an adult, or a senior\n",
    "\n",
    "#Age Classification\n",
    "age = int(input(\"Enter your age: \"))\n",
    "if age < 18:\n",
    "    print(\"You are a minor.\")\n",
    "elif age < 60:\n",
    "    print(\"You are an adult.\")\n",
    "else:\n",
    "    print(\"You aare a senior.\")\n"
   ]
  },
  {
   "cell_type": "code",
   "execution_count": 37,
   "id": "007a0063-4d58-4d47-8718-e085314022bc",
   "metadata": {},
   "outputs": [
    {
     "name": "stdin",
     "output_type": "stream",
     "text": [
      "Enter first number:  2\n",
      "Enter second number:  4\n"
     ]
    },
    {
     "name": "stdout",
     "output_type": "stream",
     "text": [
      "After swapping: a= 4 , b = 2\n"
     ]
    }
   ],
   "source": [
    "#4) Write a Python program to swap the values of two variables without using a third variable.\n",
    "\n",
    "#Swap without third vaiable\n",
    "a = int (input(\"Enter first number: \"))\n",
    "b = int(input(\"Enter second number: \"))\n",
    "a, b = b, a\n",
    "print(\"After swapping: a=\", a, \", b =\", b)"
   ]
  },
  {
   "cell_type": "code",
   "execution_count": 38,
   "id": "392818db-77e2-4cb1-8cde-7603249dfb60",
   "metadata": {},
   "outputs": [
    {
     "name": "stdout",
     "output_type": "stream",
     "text": [
      "0 1 1 2 3 5 8 13 21 34 "
     ]
    }
   ],
   "source": [
    "#5) Write a Python program to print the first 10 numbers of the Fibonacci series.\n",
    "\n",
    "#Fibonacci Series\n",
    "a, b = 0, 1\n",
    "for _ in range(10):\n",
    "    print(a, end=\" \")\n",
    "    a, b = b, a + b"
   ]
  },
  {
   "cell_type": "code",
   "execution_count": 46,
   "id": "dbd23665-0969-4445-b831-56bb615b3690",
   "metadata": {},
   "outputs": [
    {
     "name": "stdin",
     "output_type": "stream",
     "text": [
      "Enter a number:  2\n"
     ]
    },
    {
     "name": "stdout",
     "output_type": "stream",
     "text": [
      "Prime\n"
     ]
    }
   ],
   "source": [
    "#6) Write a Python program to check if a given number is prime or not.\n",
    "\n",
    "#Prime Number Check\n",
    "num = int(input(\"Enter a number: \"))\n",
    "if num > 1:\n",
    "    for i in range(2, int(num ** 0.5) + 1):\n",
    "        if num % i == 0:\n",
    "            print(\"Not Prime\")\n",
    "            break\n",
    "    else:\n",
    "        print(\"Prime\")\n",
    "else:\n",
    "    print(\"Not Prime\")\n",
    "    "
   ]
  },
  {
   "cell_type": "code",
   "execution_count": 51,
   "id": "28e7f4dd-bd83-403d-b2f2-86890af2171a",
   "metadata": {},
   "outputs": [
    {
     "name": "stdin",
     "output_type": "stream",
     "text": [
      "Enter first number:  1\n",
      "Enter second number:  1\n",
      "Enter third number:  2\n"
     ]
    },
    {
     "name": "stdout",
     "output_type": "stream",
     "text": [
      "Third number is the sum of the first two.\n"
     ]
    }
   ],
   "source": [
    "#7) Write a Python program that takes three numbers as input and checks if the third number is the sum of the first two numbers using logical operators.\n",
    "\n",
    "#Logical Operators Check\n",
    "a = int(input(\"Enter first number: \"))\n",
    "b = int(input(\"Enter second number: \"))\n",
    "c = int(input(\"Enter third number: \"))\n",
    "if c == a + b:\n",
    "    print(\"Third number is the sum of the first two.\")\n",
    "else:\n",
    "    print(\"Third number is NOT the sum of the first two.\")"
   ]
  },
  {
   "cell_type": "code",
   "execution_count": 98,
   "id": "a870d3be-344b-40ef-ac7c-f2fdf914951d",
   "metadata": {},
   "outputs": [
    {
     "name": "stdin",
     "output_type": "stream",
     "text": [
      "Enter a number to calculate its factorial:  5\n"
     ]
    },
    {
     "name": "stdout",
     "output_type": "stream",
     "text": [
      "The factorial of 5 is 120.\n"
     ]
    }
   ],
   "source": [
    "#8) Write a Python program that imports a custom module you created with a function that returns the factorial of a number.\n",
    "\n",
    "#Custom Module-Factorial\n",
    "#factorial_module.py\n",
    "# factorial_module.py\n",
    "\n",
    "# factorial_module.py\n",
    "\n",
    "def factorial(n):\n",
    "    \"\"\"Calculate the factorial of a number.\"\"\"\n",
    "    if n < 0:\n",
    "        raise ValueError(\"Factorial is not defined for negative numbers.\")\n",
    "    if n == 0 or n == 1:\n",
    "        return 1\n",
    "    result = 1\n",
    "    for i in range(2, n + 1):\n",
    "        result *= i\n",
    "    return result\n",
    "\n",
    "# main_program.py\n",
    "\n",
    "# Import the custom module\n",
    "\n",
    "def main():\n",
    "    try:\n",
    "        # Input from the user\n",
    "        num = int(input(\"Enter a number to calculate its factorial: \"))\n",
    "        # Call the factorial function\n",
    "        result = factorial(num)\n",
    "        print(f\"The factorial of {num} is {result}.\")\n",
    "    except ValueError as e:\n",
    "        print(f\"Error: {e}\")\n",
    "\n",
    "if __name__ == \"__main__\":\n",
    "    main()\n"
   ]
  },
  {
   "cell_type": "code",
   "execution_count": 119,
   "id": "2fcea5d1-260c-4ff8-8979-c4a9880a3c44",
   "metadata": {},
   "outputs": [
    {
     "name": "stdin",
     "output_type": "stream",
     "text": [
      "Enter numerator:  123\n",
      "Enter denominator:  12\n"
     ]
    },
    {
     "name": "stdout",
     "output_type": "stream",
     "text": [
      "Error: Cannot divide by zero!\n"
     ]
    }
   ],
   "source": [
    "#9) Write a Python program that takes two numbers as input and performs division, handling the case where the divisor is zero.\n",
    "\n",
    "#Division with exception Handling\n",
    "try:\n",
    "    num1 = float(input(\"Enter numerator: \"))\n",
    "    num2 = float(input(\"Enter denominator: \"))\n",
    "    result = a / b\n",
    "    print(\"Result:\", result)\n",
    "except ZeroDivisionError:\n",
    "    print(\"Error: Cannot divide by zero!\")\n",
    "else:\n",
    "    print(f\"The result of {num1} / {num2} is {Result}\")"
   ]
  },
  {
   "cell_type": "code",
   "execution_count": 121,
   "id": "b3d2f609-c002-457e-8327-6737e6faa4ce",
   "metadata": {},
   "outputs": [
    {
     "name": "stdout",
     "output_type": "stream",
     "text": [
      "Max value: 9\n"
     ]
    }
   ],
   "source": [
    "#10) Write a Python function that takes a list of numbers and returns the maximum value in the list. \n",
    "\n",
    "#Max in list\n",
    "def find_max(numbers):\n",
    "    return max(numbers)\n",
    "nums =[3, 7, 2, 9, 5]\n",
    "print(\"Max value:\", find_max(nums))"
   ]
  },
  {
   "cell_type": "code",
   "execution_count": 122,
   "id": "81d9877b-70f5-4cba-a860-aa80f96a509d",
   "metadata": {},
   "outputs": [
    {
     "name": "stdout",
     "output_type": "stream",
     "text": [
      "Hello Saimon, your are 25 years old.\n",
      "Hello Samon, your are 30 years old.\n"
     ]
    }
   ],
   "source": [
    "#11) Write a Python function that takes a name and an optional age parameter and prints a greeting. If the age is not provided, it should default to 25\n",
    "\n",
    "#Greeting function\n",
    "def greet(name, age=25):\n",
    "    print(F\"Hello {name}, your are {age} years old.\")\n",
    "\n",
    "greet(\"Saimon\")\n",
    "greet(\"Samon\", 30)"
   ]
  },
  {
   "cell_type": "code",
   "execution_count": 124,
   "id": "ff37d2e0-03b4-45c0-9f96-dc04a12e2ead",
   "metadata": {},
   "outputs": [
    {
     "name": "stdin",
     "output_type": "stream",
     "text": [
      "Enter a string:  friends\n"
     ]
    },
    {
     "name": "stdout",
     "output_type": "stream",
     "text": [
      "Number of vowels: 2\n"
     ]
    }
   ],
   "source": [
    "#12) Write a Python program to count the number of vowels in a given string.\n",
    "\n",
    "#Count Vowels\n",
    "string = input(\"Enter a string: \").lower()\n",
    "count = sum(1 for char in string if char in 'aeiou')\n",
    "print(\"Number of vowels:\", count)"
   ]
  },
  {
   "cell_type": "code",
   "execution_count": 127,
   "id": "0c39eb08-bb1d-4172-acdf-2a6047bdcba4",
   "metadata": {},
   "outputs": [
    {
     "name": "stdin",
     "output_type": "stream",
     "text": [
      "Enter a number:  10\n"
     ]
    },
    {
     "name": "stdout",
     "output_type": "stream",
     "text": [
      "10 x 1 = 10\n",
      "10 x 2 = 20\n",
      "10 x 3 = 30\n",
      "10 x 4 = 40\n",
      "10 x 5 = 50\n",
      "10 x 6 = 60\n",
      "10 x 7 = 70\n",
      "10 x 8 = 80\n",
      "10 x 9 = 90\n",
      "10 x 10 = 100\n"
     ]
    }
   ],
   "source": [
    "#13) Write a Python program that prints a multiplication table up to (numberx10).\n",
    "\n",
    "#Multiplication Table\n",
    "n = int(input(\"Enter a number: \"))\n",
    "for i in range(1, 11):\n",
    "    print(f\"{n} x {i} = {n * i}\")\n"
   ]
  },
  {
   "cell_type": "code",
   "execution_count": 133,
   "id": "8646af5e-4f56-43bf-a3fa-1af61ce1b1ad",
   "metadata": {},
   "outputs": [
    {
     "name": "stdin",
     "output_type": "stream",
     "text": [
      "Enter number of rows:  5\n"
     ]
    },
    {
     "name": "stdout",
     "output_type": "stream",
     "text": [
      "*\n",
      "**\n",
      "***\n",
      "****\n",
      "*****\n"
     ]
    }
   ],
   "source": [
    "#14) Write a Python program to print a right-angled triangle of '*' with a given number of rows. For example, if the number of rows is 5, the output should be:\n",
    "#*\n",
    "#** \n",
    "#*** \n",
    "#**** \n",
    "#*****\n",
    "\n",
    "#Right-angled triangle\n",
    "rows = int(input(\"Enter number of rows: \"))\n",
    "for i in range(1, rows + 1):\n",
    "    print(\"*\" * i)"
   ]
  },
  {
   "cell_type": "code",
   "execution_count": 135,
   "id": "1a026d26-13b8-4638-90f3-27a0c0e9344b",
   "metadata": {},
   "outputs": [
    {
     "name": "stdin",
     "output_type": "stream",
     "text": [
      "Enter number of rows:  9\n"
     ]
    },
    {
     "name": "stdout",
     "output_type": "stream",
     "text": [
      "        *\n",
      "       ***\n",
      "      *****\n",
      "     *******\n",
      "    *********\n",
      "   ***********\n",
      "  *************\n",
      " ***************\n",
      "*****************\n"
     ]
    }
   ],
   "source": [
    "#15) Write a Python program to print a pyramid of '*' with a given number of rows. For example, if the number of rows is 5, the output should be:\n",
    "   # *\n",
    "   #*** \n",
    "  #***** \n",
    " #******* \n",
    "#*********\n",
    "\n",
    "#Pyramid Pattern\n",
    "rows = int(input(\"Enter number of rows: \"))\n",
    "for i in range(rows):\n",
    "    print(\" \" * (rows - i - 1) + \"*\" * (2 * i  +1))"
   ]
  },
  {
   "cell_type": "code",
   "execution_count": 151,
   "id": "80e1417d-e038-48a2-8601-fed8b18a91b1",
   "metadata": {},
   "outputs": [
    {
     "name": "stdin",
     "output_type": "stream",
     "text": [
      "Enter a number:  1\n"
     ]
    },
    {
     "name": "stdout",
     "output_type": "stream",
     "text": [
      "1 is a palimndrome.\n"
     ]
    }
   ],
   "source": [
    "#1) Given an integer x, return true if x is a palindrome, and false otherwise. (LeetCode: Palindrome Number)\n",
    "\n",
    "#Palindrome number\n",
    "\n",
    "def is_Palindrome(x: int) -> bool:\n",
    "    if x < 0:\n",
    "        return False\n",
    "    return str(x) == str(x)[::-1]\n",
    "\n",
    "num = int(input(\"Enter a number: \"))\n",
    "if is_palindrome(num):\n",
    "    print(f\"{num} is a palimndrome.\")\n",
    "else:\n",
    "    print(f\"{num} is not a palindrome.\")\n",
    "\n"
   ]
  },
  {
   "cell_type": "code",
   "execution_count": 180,
   "id": "ca803477-b259-42b4-aeab-8c91d73fa123",
   "metadata": {},
   "outputs": [
    {
     "name": "stdin",
     "output_type": "stream",
     "text": [
      "Enter numbers separated by space:  4 1 2 1 2\n"
     ]
    },
    {
     "name": "stdout",
     "output_type": "stream",
     "text": [
      "The single number is: 4\n"
     ]
    }
   ],
   "source": [
    "#2) Given a non-empty array of integers nums, every element appears twice except for one. Find that single one. (LeetCode: Single Number)\n",
    "\n",
    "#single number\n",
    "\n",
    "def single_number(nums):\n",
    "    result = 0\n",
    "    for num in nums:\n",
    "        result ^= num\n",
    "    return result\n",
    "\n",
    "#print(single_number([4,1,2,1,2])) # 4\n",
    "\n",
    "nums = list(map(int, input(\"Enter numbers separated by space: \").split()))\n",
    "print(f\"The single number is: {single_number(nums)}\")\n",
    "\n"
   ]
  },
  {
   "cell_type": "code",
   "execution_count": 178,
   "id": "3f608992-4d53-40c8-a7fe-e8b590c62470",
   "metadata": {},
   "outputs": [
    {
     "name": "stdout",
     "output_type": "stream",
     "text": [
      "[0, 1]\n"
     ]
    }
   ],
   "source": [
    "#3) Given an array of integers nums and an integer target, return indices of the two numbers such that they add up to target. You may assume that each input would have exactly one solution, and you may not use the same element twice. You can return the answer in any order. (LeetCode: Two Sum)\n",
    "\n",
    "#TwoSum\n",
    "\n",
    "def twoSum(nums, target):\n",
    "    num_map = {}\n",
    "    for i, num in enumerate(nums):\n",
    "        complement = target - num\n",
    "        if complement in num_map:\n",
    "            return [num_map[complement], i]\n",
    "        num_map[num] = i\n",
    "\n",
    "print(twoSum([2,7,11,15], 9))"
   ]
  },
  {
   "cell_type": "code",
   "execution_count": 182,
   "id": "d05365d2-3f97-425a-9eae-f049dee9f790",
   "metadata": {},
   "outputs": [
    {
     "name": "stdout",
     "output_type": "stream",
     "text": [
      "True\n"
     ]
    }
   ],
   "source": [
    "#4) Write an algorithm to determine if a number n is happy. (LeetCode: Happy Number)\n",
    "\n",
    "#Happy number\n",
    "\n",
    "def isHappy(n):\n",
    "    seen = set()\n",
    "    while n != 1 and n not in seen:\n",
    "        seen.add(n)\n",
    "        n = sum(int(ch) ** 2 for ch in str(n))\n",
    "    return n == 1\n",
    "\n",
    "print(isHappy(19))\n"
   ]
  },
  {
   "cell_type": "code",
   "execution_count": 186,
   "id": "98d37b4e-66d0-4c6b-856c-9a3c07374a24",
   "metadata": {},
   "outputs": [
    {
     "name": "stdout",
     "output_type": "stream",
     "text": [
      "True\n"
     ]
    }
   ],
   "source": [
    "#5) Given an integer array nums, return true if any value appears at least twice in the array, and return false if every element is distinct. (LeetCode: Contains Duplicate)\n",
    "\n",
    "\n",
    "#containss duplicate\n",
    "\n",
    "def containsDuplicate(nums):\n",
    " return len(nums) != len(set(nums))\n",
    "print(containsDuplicate([1,2,3,1]))\n",
    "\n"
   ]
  },
  {
   "cell_type": "code",
   "execution_count": null,
   "id": "fa1e1bdf-8fa0-4446-8158-bad581d2a46f",
   "metadata": {},
   "outputs": [],
   "source": []
  }
 ],
 "metadata": {
  "kernelspec": {
   "display_name": "Python 3 (ipykernel)",
   "language": "python",
   "name": "python3"
  },
  "language_info": {
   "codemirror_mode": {
    "name": "ipython",
    "version": 3
   },
   "file_extension": ".py",
   "mimetype": "text/x-python",
   "name": "python",
   "nbconvert_exporter": "python",
   "pygments_lexer": "ipython3",
   "version": "3.12.7"
  }
 },
 "nbformat": 4,
 "nbformat_minor": 5
}
