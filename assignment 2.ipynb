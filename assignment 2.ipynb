{
 "cells": [
  {
   "cell_type": "code",
   "execution_count": 1,
   "id": "9cba49d2-11e4-4db2-9292-079da50b96eb",
   "metadata": {},
   "outputs": [
    {
     "name": "stdout",
     "output_type": "stream",
     "text": [
      "sum: 15\n",
      "Difference: 5\n",
      "Product: 50\n",
      "Quotient: 2.0\n"
     ]
    }
   ],
   "source": [
    "#1.Write a program that takes two numbers as variables and prints their sum, difference, product, and quotient.\n",
    "\n",
    "#two numbers:sum, difference, product, quotient\n",
    "\n",
    "#variables\n",
    "a = 10\n",
    "b = 5\n",
    "\n",
    "#operations\n",
    "print(\"sum:\", a + b)\n",
    "print(\"Difference:\", a - b)\n",
    "print(\"Product:\", a * b)\n",
    "print(\"Quotient:\", a / b)"
   ]
  },
  {
   "cell_type": "code",
   "execution_count": 2,
   "id": "141db3ad-7f00-47cd-82e9-a521e5c57a4c",
   "metadata": {},
   "outputs": [
    {
     "name": "stdout",
     "output_type": "stream",
     "text": [
      "Area of circle: 153.9384\n"
     ]
    }
   ],
   "source": [
    "#2.Write a program that takes the radius of a circle as a variable and prints its area. Use π = 3.1416.\n",
    "\n",
    "#area of a circle\n",
    "\n",
    "#variable\n",
    "radius = 7\n",
    "pi = 3.1416\n",
    "\n",
    "#area\n",
    "area = pi * radius * radius\n",
    "print(\"Area of circle:\", area)"
   ]
  },
  {
   "cell_type": "code",
   "execution_count": 4,
   "id": "53e7afe0-84a9-4c97-9e35-335c8af6cfd2",
   "metadata": {},
   "outputs": [
    {
     "name": "stdout",
     "output_type": "stream",
     "text": [
      "Reversed string: dlroW olleH\n"
     ]
    }
   ],
   "source": [
    "#3.Write a program that takes a string and prints it in reverse.\n",
    "\n",
    "#reverse a string\n",
    "\n",
    "s = \"Hello World\"\n",
    "print(\"Reversed string:\", s[::-1])"
   ]
  },
  {
   "cell_type": "code",
   "execution_count": 5,
   "id": "26cc1cca-a0aa-4977-8e97-fede89e08724",
   "metadata": {},
   "outputs": [
    {
     "name": "stdout",
     "output_type": "stream",
     "text": [
      "Number of words: 5\n"
     ]
    }
   ],
   "source": [
    "#4.Write a program that counts the number of words in a sentence. \n",
    "\n",
    "#count number o words in a sentence\n",
    "\n",
    "sentence = \"Python is fun to learn\"\n",
    "words = sentence.split() #splits by spaces\n",
    "print(\"Number of words:\", len(words))"
   ]
  },
  {
   "cell_type": "code",
   "execution_count": 6,
   "id": "b661ce8f-7ad5-4aaf-bc3a-3c60556b16f1",
   "metadata": {},
   "outputs": [
    {
     "name": "stdout",
     "output_type": "stream",
     "text": [
      "Uppercase: PYTHON PROGRAMMING\n",
      "Lowercase: python programming\n"
     ]
    }
   ],
   "source": [
    "#5.Write a program that converts a string to uppercase and then to lowercase.\n",
    "\n",
    "#convert string to uppercase and lowercase\n",
    "\n",
    "s = \"Python Programming\"\n",
    "print(\"Uppercase:\", s.upper())\n",
    "print(\"Lowercase:\", s.lower())"
   ]
  },
  {
   "cell_type": "code",
   "execution_count": 9,
   "id": "9498ae75-8eef-4934-bc2d-8df1f30bfac6",
   "metadata": {},
   "outputs": [
    {
     "name": "stdout",
     "output_type": "stream",
     "text": [
      "Length of string: 6\n"
     ]
    }
   ],
   "source": [
    "#6.Write a program to find the length of String in Python.\n",
    "\n",
    "#find length of a string\n",
    "\n",
    "s = \"python\"\n",
    "print(\"Length of string:\", len(s))"
   ]
  },
  {
   "cell_type": "code",
   "execution_count": 10,
   "id": "f4b92977-a446-48ab-a414-59624d90a6ee",
   "metadata": {},
   "outputs": [
    {
     "name": "stdout",
     "output_type": "stream",
     "text": [
      "String after removal: He Wrd\n"
     ]
    }
   ],
   "source": [
    "#7.Write a program to remove user defined letters From a String in Python.Note: Use only functions and operations discussed in class. Do not use conditional statements and control loops.\n",
    "\n",
    "#remove user-defined letters from a string\n",
    "\n",
    "s = \"Hello World\"\n",
    "letters_to_remove = \"lo\" #remove 'l' and 'o'\n",
    "\n",
    "for letter in letters_to_remove:\n",
    "    s = s.replace(letter, \"\") #replace with empty string\n",
    "\n",
    "print(\"String after removal:\", s)"
   ]
  },
  {
   "cell_type": "code",
   "execution_count": 11,
   "id": "82f560f0-6704-42a8-97bc-56c85220e101",
   "metadata": {},
   "outputs": [
    {
     "name": "stdout",
     "output_type": "stream",
     "text": [
      "7.5\n",
      "15\n"
     ]
    }
   ],
   "source": [
    "#8.Difference between implicit and explicit typecasting Use of .strip Use of .find\n",
    "\n",
    "#difference between implicit and explicit typecasting\n",
    "\n",
    "#implicit typecasting\n",
    "x = 5 #int\n",
    "y = 2.5 #float\n",
    "z = x + y # x is automatically converted to float\n",
    "print(z) #7.5\n",
    "\n",
    "#explicit typecasting\n",
    "a = \"10\"\n",
    "b = int(a) + 5\n",
    "print(b) #15"
   ]
  },
  {
   "cell_type": "code",
   "execution_count": 14,
   "id": "77f7fcee-44cb-4dc2-8c80-926bc3a7e344",
   "metadata": {},
   "outputs": [
    {
     "name": "stdout",
     "output_type": "stream",
     "text": [
      "Before strip: '    Hellow World    '\n",
      "After strip: 'Hellow World'\n"
     ]
    }
   ],
   "source": [
    "#9.Use of .strip\n",
    "\n",
    "s = \"    Hellow World    \"\n",
    "print(\"Before strip:\", repr(s))\n",
    "print(\"After strip:\", repr(s.strip()))"
   ]
  },
  {
   "cell_type": "code",
   "execution_count": 16,
   "id": "87885f93-4cee-4ea0-9ab8-829ae44c57e1",
   "metadata": {},
   "outputs": [
    {
     "name": "stdout",
     "output_type": "stream",
     "text": [
      "Index of 'p': -1\n",
      "Index of 'g': 10\n"
     ]
    }
   ],
   "source": [
    "#10.Use of .find\n",
    "\n",
    "s = \"Python Programming\"\n",
    "print(\"Index of 'p':\", s.find(\"p\"))\n",
    "print(\"Index of 'g':\", s.find(\"g\"))"
   ]
  }
 ],
 "metadata": {
  "kernelspec": {
   "display_name": "Python 3 (ipykernel)",
   "language": "python",
   "name": "python3"
  },
  "language_info": {
   "codemirror_mode": {
    "name": "ipython",
    "version": 3
   },
   "file_extension": ".py",
   "mimetype": "text/x-python",
   "name": "python",
   "nbconvert_exporter": "python",
   "pygments_lexer": "ipython3",
   "version": "3.12.7"
  }
 },
 "nbformat": 4,
 "nbformat_minor": 5
}
